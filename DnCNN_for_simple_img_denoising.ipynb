{
  "nbformat": 4,
  "nbformat_minor": 0,
  "metadata": {
    "colab": {
      "name": "Untitled4.ipynb",
      "provenance": []
    },
    "kernelspec": {
      "name": "python3",
      "display_name": "Python 3"
    }
  },
  "cells": [
    {
      "cell_type": "code",
      "metadata": {
        "id": "lx2kF92JYBr2"
      },
      "source": [
        "import numpy as np\n",
        "import pandas as pd\n",
        "import matplotlib.pyplot as plt\n",
        "import zipfile\n",
        "import os\n",
        "import cv2\n",
        "\n",
        "from sklearn.model_selection import train_test_split\n",
        "\n",
        "%matplotlib inline"
      ],
      "execution_count": null,
      "outputs": []
    },
    {
      "cell_type": "code",
      "metadata": {
        "colab": {
          "base_uri": "https://localhost:8080/"
        },
        "id": "rnNDBXE-hokg",
        "outputId": "b8fab908-da2c-4038-9c2d-fec7b92f5535"
      },
      "source": [
        "!ls"
      ],
      "execution_count": null,
      "outputs": [
        {
          "output_type": "stream",
          "text": [
            "sample_data  sampleSubmission.csv.zip  test.zip  train_cleaned.zip  train.zip\n"
          ],
          "name": "stdout"
        }
      ]
    },
    {
      "cell_type": "code",
      "metadata": {
        "colab": {
          "resources": {
            "http://localhost:8080/nbextensions/google.colab/files.js": {
              "data": "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",
              "ok": true,
              "headers": [
                [
                  "content-type",
                  "application/javascript"
                ]
              ],
              "status": 200,
              "status_text": ""
            }
          },
          "base_uri": "https://localhost:8080/",
          "height": 191
        },
        "id": "Huw9XLalah1B",
        "outputId": "38106d0a-a140-4e81-eaab-2fca5a7172e7"
      },
      "source": [
        "def upload_files():\n",
        "  from google.colab import files\n",
        "  uploaded = files.upload()\n",
        "  for k, v in uploaded.items():\n",
        "    open(k, 'wb').write(v)\n",
        "  return list(uploaded.keys())\n",
        "\n",
        "upload_files()\n"
      ],
      "execution_count": null,
      "outputs": [
        {
          "output_type": "display_data",
          "data": {
            "text/html": [
              "\n",
              "     <input type=\"file\" id=\"files-ac51e0d8-0c68-421d-90eb-40cce84f936f\" name=\"files[]\" multiple disabled\n",
              "        style=\"border:none\" />\n",
              "     <output id=\"result-ac51e0d8-0c68-421d-90eb-40cce84f936f\">\n",
              "      Upload widget is only available when the cell has been executed in the\n",
              "      current browser session. Please rerun this cell to enable.\n",
              "      </output>\n",
              "      <script src=\"/nbextensions/google.colab/files.js\"></script> "
            ],
            "text/plain": [
              "<IPython.core.display.HTML object>"
            ]
          },
          "metadata": {
            "tags": []
          }
        },
        {
          "output_type": "stream",
          "text": [
            "Saving sampleSubmission.csv.zip to sampleSubmission.csv.zip\n",
            "Saving test.zip to test.zip\n",
            "Saving train.zip to train.zip\n",
            "Saving train_cleaned.zip to train_cleaned.zip\n"
          ],
          "name": "stdout"
        },
        {
          "output_type": "execute_result",
          "data": {
            "text/plain": [
              "['sampleSubmission.csv.zip', 'test.zip', 'train.zip', 'train_cleaned.zip']"
            ]
          },
          "metadata": {
            "tags": []
          },
          "execution_count": 5
        }
      ]
    },
    {
      "cell_type": "code",
      "metadata": {
        "id": "tQTThJfrYLku"
      },
      "source": [
        "import os\n",
        "for dirname, _, filenames in os.walk('/content/keggle'):\n",
        "    for filename in filenames:\n",
        "        print(os.path.join(dirname, filename))"
      ],
      "execution_count": null,
      "outputs": []
    },
    {
      "cell_type": "code",
      "metadata": {
        "id": "-TAlO8I3YVFW"
      },
      "source": [
        "path = '/content/keggle/working/'\n",
        "path_zip = '/content/keggle/'"
      ],
      "execution_count": null,
      "outputs": []
    },
    {
      "cell_type": "code",
      "metadata": {
        "id": "JMLvAVNKhUXN"
      },
      "source": [
        "# unzip files first to working directory\n",
        "# We could use also unzipped data source, but why not to learn something new?\n",
        "with zipfile.ZipFile(path_zip + 'train.zip', 'r') as zip_ref:\n",
        "    zip_ref.extractall(path)\n",
        "\n",
        "with zipfile.ZipFile(path_zip + 'test.zip', 'r') as zip_ref:\n",
        "    zip_ref.extractall(path)  \n",
        "    \n",
        "with zipfile.ZipFile(path_zip + 'train_cleaned.zip', 'r') as zip_ref:\n",
        "    zip_ref.extractall(path)  \n",
        "    \n",
        "with zipfile.ZipFile(path_zip + 'sampleSubmission.csv.zip', 'r') as zip_ref:\n",
        "    zip_ref.extractall(path)  "
      ],
      "execution_count": null,
      "outputs": []
    },
    {
      "cell_type": "code",
      "metadata": {
        "id": "MC1f-6GShYWC"
      },
      "source": [
        "# store image names in list for later use\n",
        "train_img = sorted(os.listdir(path + '/train'))\n",
        "train_cleaned_img = sorted(os.listdir(path + '/train_cleaned'))\n",
        "test_img = sorted(os.listdir(path + '/test'))"
      ],
      "execution_count": null,
      "outputs": []
    },
    {
      "cell_type": "code",
      "metadata": {
        "id": "Vv_raV1dhzCJ"
      },
      "source": [
        "# prepare function\n",
        "def process_image(path):\n",
        "    img = cv2.imread(path)\n",
        "    img = np.asarray(img, dtype=\"float32\")\n",
        "    #print(img.shape)\n",
        "    img = cv2.resize(img, (540, 420))\n",
        "    img = cv2.cvtColor(img, cv2.COLOR_BGR2GRAY)\n",
        "    img = img/255.0\n",
        "    crop_img = img[:64, :64]\n",
        "    #print(crop_img.shape)\n",
        "    img = np.reshape(crop_img, (64, 64, 1))\n",
        "    img = np.moveaxis(img, -1, 0)\n",
        "   # img = np.reshape(crop_img, (1, 420, 420))\n",
        "    return img"
      ],
      "execution_count": null,
      "outputs": []
    },
    {
      "cell_type": "code",
      "metadata": {
        "id": "ti4u2Vv8h3KO"
      },
      "source": [
        "train = []\n",
        "train_cleaned = []\n",
        "test = []\n",
        "\n",
        "for f in sorted(os.listdir(path + 'train/')):\n",
        "    train.append(process_image(path + 'train/' + f))\n",
        "\n",
        "for f in sorted(os.listdir(path + 'train_cleaned/')):\n",
        "    train_cleaned.append(process_image(path + 'train_cleaned/' + f))\n",
        "   \n",
        "for f in sorted(os.listdir(path + 'test/')):\n",
        "    test.append(process_image(path + 'test/' + f))"
      ],
      "execution_count": null,
      "outputs": []
    },
    {
      "cell_type": "code",
      "metadata": {
        "colab": {
          "base_uri": "https://localhost:8080/",
          "height": 1000
        },
        "id": "7HcgOeZoh6IO",
        "outputId": "afb078da-5e03-479d-8a12-247446891de9"
      },
      "source": [
        "plt.figure(figsize=(15,25))\n",
        "for i in range(0,8,2):\n",
        "    plt.subplot(4,2,i+1)\n",
        "    plt.xticks([])\n",
        "    plt.yticks([])\n",
        "    plt.imshow(train[i][0,:,:], cmap='gray')\n",
        "    plt.title('Noise image: {}'.format(train_img[i]))\n",
        "    \n",
        "    plt.subplot(4,2,i+2)\n",
        "    plt.xticks([])\n",
        "    plt.yticks([])\n",
        "    plt.imshow(train_cleaned[i][0,:,:], cmap='gray')\n",
        "    plt.title('Denoised image: {}'.format(train_img[i]))\n",
        "\n",
        "plt.show()"
      ],
      "execution_count": null,
      "outputs": [
        {
          "output_type": "display_data",
          "data": {
            "image/png": "[encoded data removed]",
            "text/plain": [
              "<Figure size 1080x1800 with 8 Axes>"
            ]
          },
          "metadata": {
            "tags": []
          }
        }
      ]
    },
    {
      "cell_type": "code",
      "metadata": {
        "id": "bicp0jQpiOxe"
      },
      "source": [
        "# convert list to numpy array\n",
        "X_train = np.asarray(train)\n",
        "Y_train = np.asarray(train_cleaned)\n",
        "X_test = np.asarray(test)\n",
        "\n",
        "X_train, X_val, Y_train, Y_val = train_test_split(X_train, Y_train, test_size=0.15)"
      ],
      "execution_count": null,
      "outputs": []
    },
    {
      "cell_type": "code",
      "metadata": {
        "id": "0eBvfge8jhS9"
      },
      "source": [
        "class Dat(torch_data.Dataset):\n",
        "    def __init__(self, X, y):\n",
        "        super(Dat, self).__init__()\n",
        "        print(X.shape)\n",
        "        self.X = torch.tensor(X, dtype=torch.float32)\n",
        "        self.y = torch.tensor(y, dtype=torch.float32)\n",
        "    \n",
        "    def __len__(self):\n",
        "        \n",
        "        return len(self.y)# >>> your solution here <<<\n",
        "    \n",
        "    def __getitem__(self, idx):\n",
        "        return (self.X[idx], self.y[idx])"
      ],
      "execution_count": null,
      "outputs": []
    },
    {
      "cell_type": "code",
      "metadata": {
        "colab": {
          "base_uri": "https://localhost:8080/"
        },
        "id": "aWssHf2KlqSf",
        "outputId": "f3317d4e-4ca1-4189-a592-39f088e34252"
      },
      "source": [
        "train_dset = Dat(X_train, Y_train) \n",
        "val_dset = Dat(X_val, Y_val) "
      ],
      "execution_count": null,
      "outputs": [
        {
          "output_type": "stream",
          "text": [
            "(122, 1, 64, 64)\n",
            "(22, 1, 64, 64)\n"
          ],
          "name": "stdout"
        }
      ]
    },
    {
      "cell_type": "code",
      "metadata": {
        "id": "2eGrL8Grm_Mg"
      },
      "source": [
        "class MyFirstAE(nn.Module):\n",
        "    def __init__(self, in_chans = 1, num_features = 16, num_of_layers = 3):\n",
        "        super(MyFirstAE, self).__init__()\n",
        "        layers = [torch.nn.Sequential(torch.nn.Conv2d(in_chans, num_features, kernel_size=3, stride=1, padding=1),\n",
        "                                      torch.nn.ReLU(inplace=True))]\n",
        "        for i in range(num_of_layers - 2):\n",
        "            layers.append(torch.nn.Sequential(torch.nn.Conv2d(num_features, num_features, kernel_size=3, padding=1),\n",
        "                                              torch.nn.BatchNorm2d(num_features),\n",
        "                                              torch.nn.ReLU(inplace=True)))\n",
        "\n",
        "        layers.append(torch.nn.Conv2d(num_features, in_chans, kernel_size=3, padding=1))\n",
        "        self.layers = torch.nn.Sequential(*layers)\n",
        "\n",
        "        self._initialize_weights()\n",
        "\n",
        "    def _initialize_weights(self):\n",
        "        for m in self.modules():\n",
        "            if isinstance(m, torch.nn.Conv2d):\n",
        "                torch.nn.init.kaiming_normal_(m.weight)\n",
        "                m.bias.data.zero_()\n",
        "            elif isinstance(m, torch.nn.BatchNorm2d):\n",
        "                torch.nn.init.ones_(m.weight)\n",
        "                torch.nn.init.zeros_(m.bias)\n",
        "\n",
        "    def forward(self, input):\n",
        "        residual = self.layers(input)\n",
        "\n",
        "        return torch.nn.Sigmoid()(input - residual)"
      ],
      "execution_count": null,
      "outputs": []
    },
    {
      "cell_type": "code",
      "metadata": {
        "id": "XnMXd30Hi5r6"
      },
      "source": [
        "import torch\n",
        "from torch import nn\n",
        "from torch.nn import functional as F\n",
        "import torch.utils.data as torch_data"
      ],
      "execution_count": null,
      "outputs": []
    },
    {
      "cell_type": "code",
      "metadata": {
        "colab": {
          "base_uri": "https://localhost:8080/"
        },
        "id": "PM5KMfitoNp3",
        "outputId": "72da1990-3c57-420b-e9c7-ed8e305bcd93"
      },
      "source": [
        "net = MyFirstAE()\n",
        "net"
      ],
      "execution_count": null,
      "outputs": [
        {
          "output_type": "execute_result",
          "data": {
            "text/plain": [
              "MyFirstAE(\n",
              "  (layers): Sequential(\n",
              "    (0): Sequential(\n",
              "      (0): Conv2d(1, 16, kernel_size=(3, 3), stride=(1, 1), padding=(1, 1))\n",
              "      (1): ReLU(inplace=True)\n",
              "    )\n",
              "    (1): Sequential(\n",
              "      (0): Conv2d(16, 16, kernel_size=(3, 3), stride=(1, 1), padding=(1, 1))\n",
              "      (1): BatchNorm2d(16, eps=1e-05, momentum=0.1, affine=True, track_running_stats=True)\n",
              "      (2): ReLU(inplace=True)\n",
              "    )\n",
              "    (2): Conv2d(16, 1, kernel_size=(3, 3), stride=(1, 1), padding=(1, 1))\n",
              "  )\n",
              ")"
            ]
          },
          "metadata": {
            "tags": []
          },
          "execution_count": 43
        }
      ]
    },
    {
      "cell_type": "code",
      "metadata": {
        "id": "MPucqwixoRWR"
      },
      "source": [
        "criterion = nn.MSELoss()\n",
        "optimizer = torch.optim.Adam(net.parameters(), lr=0.003)\n",
        "scheduler = torch.optim.lr_scheduler.ReduceLROnPlateau(optimizer, verbose=True)\n",
        "device ='cpu'\n",
        "train_loader = torch_data.DataLoader(train_dset, batch_size=6, shuffle=True) \n",
        "val_loader = torch_data.DataLoader(val_dset, batch_size=2, shuffle=False) "
      ],
      "execution_count": null,
      "outputs": []
    },
    {
      "cell_type": "code",
      "metadata": {
        "colab": {
          "base_uri": "https://localhost:8080/"
        },
        "id": "0GNomg63o185",
        "outputId": "041f0714-26c3-4742-a571-ff86cf106703"
      },
      "source": [
        "train_loader"
      ],
      "execution_count": null,
      "outputs": [
        {
          "output_type": "execute_result",
          "data": {
            "text/plain": [
              "<torch.utils.data.dataloader.DataLoader at 0x7fe0ab74af10>"
            ]
          },
          "metadata": {
            "tags": []
          },
          "execution_count": 45
        }
      ]
    },
    {
      "cell_type": "code",
      "metadata": {
        "id": "Gf2P2FHuiW2n"
      },
      "source": [
        "def train(epochs, net, criterion, optimizer, train_loader, val_loader,scheduler=None, verbose=True, save_dir=None):\n",
        "    \n",
        "    freq = max(epochs//20,1)\n",
        "    net.to(device)\n",
        "   \n",
        "    for epoch in range(1, epochs+1):\n",
        "        net.train()\n",
        "\n",
        "        losses_train = []\n",
        "        for X, _ in train_loader:\n",
        "          #print(X.shape)\n",
        "            ### BEGIN Solution\n",
        "            # Perform one step of minibatch stochastic gradient descent\n",
        "          res = net(X)\n",
        "          loss = criterion(res, X)\n",
        "          losses_train.append(loss)\n",
        "\n",
        "          optimizer.zero_grad()\n",
        "          loss.backward()\n",
        "          optimizer.step()\n",
        "\n",
        "       # loss_mean = losses_train  / len(train_loader)\n",
        "        # define NN evaluation, i.e. turn off dropouts, batchnorms, etc.\n",
        "        net.eval()\n",
        "        losses_val = []\n",
        "        for X, _ in val_loader:\n",
        "            #losses_val = []\n",
        "            res = net(X)\n",
        "            # Compute the validation loss\n",
        "            valid_loss = criterion(res, X)  \n",
        "            losses_val.append(valid_loss)\n",
        "       # val_loss_mean = losses_val / len(val_loader)\n",
        "            ### END Solution    \n",
        "            ### MYEXTRA CODE STARTS\n",
        "        if scheduler is not None:\n",
        "            scheduler.step(valid_loss)\n",
        "            ### MYEXTRA CODE ENDS\n",
        "        #if verbose and epoch%freq==0:\n",
        "        mean_val = sum(losses_val)/len(losses_val)\n",
        "        mean_train = sum(losses_train)/len(losses_train)\n",
        "\n",
        "        print('Epoch {}/{} || Loss:  Train {:.4f} | Validation {:.4f}'\\\n",
        "              .format(epoch, epochs, mean_train, mean_val))"
      ],
      "execution_count": null,
      "outputs": []
    },
    {
      "cell_type": "code",
      "metadata": {
        "colab": {
          "base_uri": "https://localhost:8080/"
        },
        "id": "yjhR5uX_pAWw",
        "outputId": "bcfd7503-e645-4bb7-c135-951dcb036377"
      },
      "source": [
        "train(100, net, criterion, optimizer, train_loader, val_loader, scheduler) "
      ],
      "execution_count": null,
      "outputs": [
        {
          "output_type": "stream",
          "text": [
            "Epoch 1/100 || Loss:  Train 0.0128 | Validation 0.0102\n",
            "Epoch 2/100 || Loss:  Train 0.0020 | Validation 0.0028\n",
            "Epoch 3/100 || Loss:  Train 0.0011 | Validation 0.0011\n",
            "Epoch 4/100 || Loss:  Train 0.0009 | Validation 0.0007\n",
            "Epoch 5/100 || Loss:  Train 0.0007 | Validation 0.0006\n",
            "Epoch 6/100 || Loss:  Train 0.0008 | Validation 0.0022\n",
            "Epoch 7/100 || Loss:  Train 0.0006 | Validation 0.0006\n",
            "Epoch 8/100 || Loss:  Train 0.0006 | Validation 0.0010\n",
            "Epoch 9/100 || Loss:  Train 0.0005 | Validation 0.0006\n",
            "Epoch 10/100 || Loss:  Train 0.0005 | Validation 0.0030\n",
            "Epoch 11/100 || Loss:  Train 0.0005 | Validation 0.0004\n",
            "Epoch 12/100 || Loss:  Train 0.0004 | Validation 0.0005\n",
            "Epoch 13/100 || Loss:  Train 0.0004 | Validation 0.0008\n",
            "Epoch 14/100 || Loss:  Train 0.0004 | Validation 0.0005\n",
            "Epoch 15/100 || Loss:  Train 0.0004 | Validation 0.0006\n",
            "Epoch 16/100 || Loss:  Train 0.0003 | Validation 0.0003\n",
            "Epoch 17/100 || Loss:  Train 0.0004 | Validation 0.0002\n",
            "Epoch 18/100 || Loss:  Train 0.0003 | Validation 0.0005\n",
            "Epoch 19/100 || Loss:  Train 0.0004 | Validation 0.0003\n",
            "Epoch 20/100 || Loss:  Train 0.0003 | Validation 0.0007\n",
            "Epoch 21/100 || Loss:  Train 0.0003 | Validation 0.0003\n",
            "Epoch 22/100 || Loss:  Train 0.0004 | Validation 0.0002\n",
            "Epoch 23/100 || Loss:  Train 0.0004 | Validation 0.0012\n",
            "Epoch 24/100 || Loss:  Train 0.0003 | Validation 0.0003\n",
            "Epoch 25/100 || Loss:  Train 0.0003 | Validation 0.0002\n",
            "Epoch 26/100 || Loss:  Train 0.0003 | Validation 0.0011\n",
            "Epoch 27/100 || Loss:  Train 0.0004 | Validation 0.0002\n",
            "Epoch 28/100 || Loss:  Train 0.0004 | Validation 0.0003\n",
            "Epoch 29/100 || Loss:  Train 0.0003 | Validation 0.0004\n",
            "Epoch 30/100 || Loss:  Train 0.0003 | Validation 0.0002\n",
            "Epoch 31/100 || Loss:  Train 0.0003 | Validation 0.0003\n",
            "Epoch 32/100 || Loss:  Train 0.0003 | Validation 0.0002\n",
            "Epoch 33/100 || Loss:  Train 0.0003 | Validation 0.0002\n",
            "Epoch 34/100 || Loss:  Train 0.0003 | Validation 0.0002\n",
            "Epoch 35/100 || Loss:  Train 0.0003 | Validation 0.0002\n",
            "Epoch 36/100 || Loss:  Train 0.0003 | Validation 0.0003\n",
            "Epoch 37/100 || Loss:  Train 0.0003 | Validation 0.0007\n",
            "Epoch 38/100 || Loss:  Train 0.0003 | Validation 0.0002\n",
            "Epoch 39/100 || Loss:  Train 0.0002 | Validation 0.0003\n",
            "Epoch 40/100 || Loss:  Train 0.0002 | Validation 0.0002\n",
            "Epoch 41/100 || Loss:  Train 0.0003 | Validation 0.0010\n",
            "Epoch 42/100 || Loss:  Train 0.0003 | Validation 0.0002\n",
            "Epoch 43/100 || Loss:  Train 0.0003 | Validation 0.0003\n",
            "Epoch 44/100 || Loss:  Train 0.0002 | Validation 0.0009\n",
            "Epoch 45/100 || Loss:  Train 0.0003 | Validation 0.0002\n",
            "Epoch 46/100 || Loss:  Train 0.0002 | Validation 0.0002\n",
            "Epoch 47/100 || Loss:  Train 0.0003 | Validation 0.0003\n",
            "Epoch 48/100 || Loss:  Train 0.0002 | Validation 0.0003\n",
            "Epoch 49/100 || Loss:  Train 0.0002 | Validation 0.0007\n",
            "Epoch 50/100 || Loss:  Train 0.0003 | Validation 0.0005\n",
            "Epoch    51: reducing learning rate of group 0 to 3.0000e-04.\n",
            "Epoch 51/100 || Loss:  Train 0.0003 | Validation 0.0003\n",
            "Epoch 52/100 || Loss:  Train 0.0002 | Validation 0.0001\n",
            "Epoch 53/100 || Loss:  Train 0.0002 | Validation 0.0001\n",
            "Epoch 54/100 || Loss:  Train 0.0002 | Validation 0.0001\n",
            "Epoch 55/100 || Loss:  Train 0.0002 | Validation 0.0001\n",
            "Epoch 56/100 || Loss:  Train 0.0002 | Validation 0.0001\n",
            "Epoch 57/100 || Loss:  Train 0.0003 | Validation 0.0001\n",
            "Epoch 58/100 || Loss:  Train 0.0002 | Validation 0.0001\n",
            "Epoch 59/100 || Loss:  Train 0.0002 | Validation 0.0001\n",
            "Epoch 60/100 || Loss:  Train 0.0002 | Validation 0.0001\n",
            "Epoch 61/100 || Loss:  Train 0.0002 | Validation 0.0001\n",
            "Epoch 62/100 || Loss:  Train 0.0002 | Validation 0.0001\n",
            "Epoch 63/100 || Loss:  Train 0.0002 | Validation 0.0001\n",
            "Epoch 64/100 || Loss:  Train 0.0002 | Validation 0.0001\n",
            "Epoch 65/100 || Loss:  Train 0.0002 | Validation 0.0001\n",
            "Epoch 66/100 || Loss:  Train 0.0003 | Validation 0.0001\n",
            "Epoch 67/100 || Loss:  Train 0.0002 | Validation 0.0001\n",
            "Epoch 68/100 || Loss:  Train 0.0002 | Validation 0.0001\n",
            "Epoch 69/100 || Loss:  Train 0.0002 | Validation 0.0001\n",
            "Epoch 70/100 || Loss:  Train 0.0002 | Validation 0.0001\n",
            "Epoch 71/100 || Loss:  Train 0.0002 | Validation 0.0001\n",
            "Epoch 72/100 || Loss:  Train 0.0002 | Validation 0.0001\n",
            "Epoch 73/100 || Loss:  Train 0.0002 | Validation 0.0001\n",
            "Epoch 74/100 || Loss:  Train 0.0002 | Validation 0.0001\n",
            "Epoch 75/100 || Loss:  Train 0.0002 | Validation 0.0001\n",
            "Epoch 76/100 || Loss:  Train 0.0002 | Validation 0.0001\n",
            "Epoch 77/100 || Loss:  Train 0.0002 | Validation 0.0001\n",
            "Epoch 78/100 || Loss:  Train 0.0002 | Validation 0.0001\n",
            "Epoch 79/100 || Loss:  Train 0.0002 | Validation 0.0001\n",
            "Epoch 80/100 || Loss:  Train 0.0002 | Validation 0.0001\n",
            "Epoch    81: reducing learning rate of group 0 to 3.0000e-05.\n",
            "Epoch 81/100 || Loss:  Train 0.0002 | Validation 0.0001\n",
            "Epoch 82/100 || Loss:  Train 0.0002 | Validation 0.0001\n",
            "Epoch 83/100 || Loss:  Train 0.0002 | Validation 0.0001\n",
            "Epoch 84/100 || Loss:  Train 0.0002 | Validation 0.0001\n",
            "Epoch 85/100 || Loss:  Train 0.0002 | Validation 0.0001\n",
            "Epoch 86/100 || Loss:  Train 0.0002 | Validation 0.0001\n",
            "Epoch 87/100 || Loss:  Train 0.0002 | Validation 0.0001\n",
            "Epoch 88/100 || Loss:  Train 0.0002 | Validation 0.0001\n",
            "Epoch 89/100 || Loss:  Train 0.0002 | Validation 0.0001\n",
            "Epoch 90/100 || Loss:  Train 0.0002 | Validation 0.0001\n",
            "Epoch 91/100 || Loss:  Train 0.0002 | Validation 0.0001\n",
            "Epoch 92/100 || Loss:  Train 0.0002 | Validation 0.0001\n",
            "Epoch 93/100 || Loss:  Train 0.0002 | Validation 0.0001\n",
            "Epoch 94/100 || Loss:  Train 0.0002 | Validation 0.0001\n",
            "Epoch 95/100 || Loss:  Train 0.0002 | Validation 0.0001\n",
            "Epoch 96/100 || Loss:  Train 0.0002 | Validation 0.0001\n",
            "Epoch 97/100 || Loss:  Train 0.0002 | Validation 0.0001\n",
            "Epoch    98: reducing learning rate of group 0 to 3.0000e-06.\n",
            "Epoch 98/100 || Loss:  Train 0.0002 | Validation 0.0001\n",
            "Epoch 99/100 || Loss:  Train 0.0002 | Validation 0.0001\n",
            "Epoch 100/100 || Loss:  Train 0.0002 | Validation 0.0001\n"
          ],
          "name": "stdout"
        }
      ]
    },
    {
      "cell_type": "code",
      "metadata": {
        "id": "20jMSkpWpCJJ"
      },
      "source": [
        ""
      ],
      "execution_count": null,
      "outputs": []
    }
  ]
}